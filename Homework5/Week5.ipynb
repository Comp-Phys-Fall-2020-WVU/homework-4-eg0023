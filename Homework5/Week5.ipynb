{
 "cells": [
  {
   "cell_type": "markdown",
   "metadata": {},
   "source": [
    "# Week Five: Integration and differentiation\n",
    "\n",
    "To be graded, your notebook must be runnable start to finish. If you can't make an in-notebook test pass, comment it out for to attempt to get partial credit. You should replace the `...` markers with your code. Do not change the names of the pre-defined ALL_CAPS variables and functions. (If you start from scratch, make sure you match the requested function names and requested ALL_CAPS variables). Other that that, you are free to define or make anything you wish. Remember that functions will often be tested with different numbers than the ones you are given."
   ]
  },
  {
   "cell_type": "code",
   "execution_count": 2,
   "metadata": {},
   "outputs": [],
   "source": [
    "# EID is your 6+2 UC Electronic ID\n",
    "EID = '800245992'\n",
    "NAME = 'Elias Garden'"
   ]
  },
  {
   "cell_type": "code",
   "execution_count": 2,
   "metadata": {},
   "outputs": [],
   "source": [
    "%matplotlib inline\n",
    "import numpy as np\n",
    "import matplotlib.pyplot as plt"
   ]
  },
  {
   "cell_type": "markdown",
   "metadata": {},
   "source": [
    "# Problem 1: 2D Trapezoidal rule\n",
    "\n",
    "You can extend the trapezoidal rule to 2D. I'll give you a few hints:\n",
    "\n",
    "The weight matrix is:\n",
    "$$\n",
    "W_{ij} = \\begin{matrix}\n",
    "1 & 2 & 2 & \\cdots & 2 & 2 & 1 \\\\\n",
    "2 & 4 & 4 & \\cdots & 4 & 4 & 2 \\\\\n",
    "2 & 4 & 4 & \\cdots & 4 & 4 & 2 \\\\\n",
    "\\vdots & \\vdots & \\vdots & \\ddots & \\vdots & \\vdots & \\vdots \\\\\n",
    "2 & 4 & 4 & \\cdots & 4 & 4 & 2 \\\\\n",
    "2 & 4 & 4 & \\cdots & 4 & 4 & 2 \\\\\n",
    "1 & 2 & 2 & \\cdots & 2 & 2 & 1\n",
    "\\end{matrix}\n",
    "$$\n",
    "\n",
    "If you use the trick I used in the slides instead of explicitly creating this matrix, you would split the sum into 4 parts. However, it's really quite easy to make the matrix above\n",
    "\n",
    "The \"bin\" width $h$ is joined by the 2nd dimension bin width of $k$, and then the trapezoidal rule integral value is \n",
    "\n",
    "$$\n",
    "I_\\mathrm{tr} = \\frac{1}{4} h k \\sum_i \\sum_j W_{ij} f(x_{i}, y_{j})\n",
    "$$"
   ]
  },
  {
   "cell_type": "markdown",
   "metadata": {},
   "source": [
    "Write a function that takes a 2-parameter function 'f' and integrates it with the given parameters (further explanations are built into the docstring of the function). I'm writing a Numpy-style docstring.\n",
    "\n",
    "See also: <http://mathfaculty.fullerton.edu/mathews/n2003/SimpsonsRule2DMod.html>"
   ]
  },
  {
   "cell_type": "code",
   "execution_count": 14,
   "metadata": {},
   "outputs": [],
   "source": [
    "def trap_2d(f, xrange, yrange, xN, yN):\n",
    "    '''Integrate a 2D function with the trapezoidal rule.\n",
    "    \n",
    "    This takes a 2D function and integrates it over a 2D grid.\n",
    "    This uses the Trapezoidal rule in 2D.\n",
    "    \n",
    "    Parameters\n",
    "    ----------\n",
    "    f : callable\n",
    "        The function to integrate. The function should take an x and y value (possibly arrays).\n",
    "    xrange : (float, float)\n",
    "        The min and max values for x, as an array\n",
    "    yrange : (float, float)\n",
    "        The min and max values for y, as an array\n",
    "    xN : int\n",
    "        The number of evaluations along x\n",
    "    yN : int\n",
    "        The number of evaluations along x\n",
    "\n",
    "    Returns\n",
    "    -------\n",
    "    float\n",
    "        The total integral\n",
    "    \n",
    "    '''\n",
    "    # If these are *not* arrays, convert them into arrays. Otherwise, leave them alone.\n",
    "    # (If we used np.array, we'd needlessly make a copy if it already was an array)\n",
    "    xrange = np.asarray(xrange)\n",
    "    yrange = np.asarray(yrange)\n",
    "    \n",
    "    # There are N-1 \"bins\"\n",
    "    x_iter = (xrange[1] - xrange[0])/(xN-1)\n",
    "    y_iter = (yrange[1] - yrange[0])/(yN-1)\n",
    "\n",
    "    #these create the arrays that contain the values along the axis\n",
    "    x = np.zeros(xN)\n",
    "    for i in range(0, xN):\n",
    "        x[i] = xrange[0] + (x_iter * i)\n",
    "\n",
    "    y = np.zeros(yN)\n",
    "    for i in range(0, yN):\n",
    "        y[i] = yrange[0] + (y_iter * i)\n",
    "\n",
    "    #this creates a double array that of all the values fxy\n",
    "    f_xy = np.zeros([xN, yN])\n",
    "    for i, xi in enumerate(x):\n",
    "        for j, yj in enumerate(y):\n",
    "            f_xy[i][j] = f(xi,yj)\n",
    "\n",
    "    #this creates the weight matrix\n",
    "    w = np.zeros([xN, yN])\n",
    "    for i in range(0, xN):\n",
    "\t    for j in range(0, yN):\n",
    "\t\t    if ((i == 0) and (j == 0)) or ((i == 0) and (j == yN-1)) or ((i == xN-1) and (j == 0)) or ((i == xN-1) and (j == yN-1)):\n",
    "\t\t    \tw[i][j] = 1\n",
    "\t\t    elif (i == 0) or (i == xN-1) or (j == 0) or (j == yN-1):\n",
    "\t\t    \tw[i][j] = 2\n",
    "\t\t    else:\n",
    "\t\t    \tw[i][j] = 4\n",
    "\n",
    "    #summing for-loop\n",
    "    sums = 0.0\n",
    "    for i in range(0, xN):\n",
    "        for j in range(0, yN):\n",
    "            sums += w[i][j] * f_xy[i][j]\n",
    "    area_approx = (1/4) * x_iter * y_iter * sums\n",
    "    return area_approx\n",
    "\n",
    "\n"
   ]
  },
  {
   "cell_type": "markdown",
   "metadata": {},
   "source": [
    "Feel free to add more tests, I'm adding the simplest one I can think of:"
   ]
  },
  {
   "cell_type": "code",
   "execution_count": 4,
   "metadata": {},
   "outputs": [],
   "source": [
    "def f(x,y):\n",
    "    return 1"
   ]
  },
  {
   "cell_type": "code",
   "execution_count": 15,
   "metadata": {},
   "outputs": [],
   "source": [
    "area = trap_2d(f, [0, 10], [0, 10], 10, 10)\n",
    "assert np.isclose(area, 100)"
   ]
  },
  {
   "cell_type": "markdown",
   "metadata": {},
   "source": [
    "# Problem 2: MC integration\n",
    "\n",
    "Write a function that performs MC integration of an unknown function of N dimensions. You can use `f(*array)` to call the function with the correct number of arguments (it expands to `f(array[0], array[1], ..., array[N])`). Return **two** values; the estimated integral and the estimated error on the integral."
   ]
  },
  {
   "cell_type": "code",
   "execution_count": null,
   "metadata": {},
   "outputs": [],
   "source": [
    "def mc_integrate(f, N, samples, ranges):\n",
    "    '''\n",
    "    Integrate an ND function with a set of sampled MC points.\n",
    "    \n",
    "    Parameters\n",
    "    ----------\n",
    "    f : callable\n",
    "        The function to integrate. The function should take N\n",
    "        values (possibly equal length arrays).\n",
    "    N : int\n",
    "        The min and max values for x, as an array\n",
    "    samples : int\n",
    "        The number of samples to integrate over\n",
    "    ranges : array[2, N]\n",
    "        An array with the min and max for each dimension.\n",
    "\n",
    "    Returns\n",
    "    -------\n",
    "    float\n",
    "        The total integral\n",
    "    float\n",
    "        The estimated error = relative error * the total integral.\n",
    "    '''\n",
    "    \n",
    "    ranges = np.asarray(ranges) # Just making sure ranges is an array\n",
    "    \n",
    "    # Hint: You can turn a 1D array, such as arr = array([a, b]) into a 2D array\n",
    "    # with arr[:,np.newaxis] or arr[:,None] or arr.reshape(2,1) or arr.reshape(-1,1)\n",
    "    \n",
    "    # Our definition of ranges matches what you find in Scipy, and is natural to type,\n",
    "    # but is a but less natural to use, for example:\n",
    "    widths = ranges[:,1] + ranges[:,0]\n",
    "    \n",
    "    ..."
   ]
  },
  {
   "cell_type": "code",
   "execution_count": null,
   "metadata": {},
   "outputs": [],
   "source": [
    "def f(x,y):\n",
    "    return x + y"
   ]
  },
  {
   "cell_type": "code",
   "execution_count": null,
   "metadata": {},
   "outputs": [],
   "source": [
    "integral, error = mc_integrate(f, 2, 10_000, [[0,1],[0,1]])"
   ]
  },
  {
   "cell_type": "code",
   "execution_count": null,
   "metadata": {},
   "outputs": [],
   "source": [
    "print(integral, error)"
   ]
  },
  {
   "cell_type": "markdown",
   "metadata": {},
   "source": [
    "#### For comparison, we could use NQuad from Scipy:"
   ]
  },
  {
   "cell_type": "code",
   "execution_count": null,
   "metadata": {},
   "outputs": [],
   "source": [
    "from scipy import integrate"
   ]
  },
  {
   "cell_type": "code",
   "execution_count": null,
   "metadata": {},
   "outputs": [],
   "source": [
    "integrate.nquad(f, [[0,1],[0,1]])"
   ]
  },
  {
   "cell_type": "markdown",
   "metadata": {},
   "source": [
    "# Problem 3: Second derivatives"
   ]
  },
  {
   "cell_type": "markdown",
   "metadata": {},
   "source": [
    "Write a function that calculates:\n",
    "\n",
    "$$\n",
    "\\frac{d^2 f(t)}{dt^2} \\Biggr\\rvert_\\mathrm{cd}\n",
    "=\n",
    "\\frac{\n",
    "\\left[\n",
    "f(t + h) - f(t)\n",
    "\\right] - \\left[\n",
    "f(t) - f(t - h)\n",
    "\\right]\n",
    "}{h^2}\n",
    "$$\n",
    "\n",
    "(The notes in class had a typo, fixed here.) Write a nice docstring as well."
   ]
  },
  {
   "cell_type": "code",
   "execution_count": 22,
   "metadata": {},
   "outputs": [],
   "source": [
    "def d2fdt2(f, t, h):\n",
    "    '''\n",
    "    To calculate the second derivative for a particular value\n",
    "\n",
    "    Parameters:\n",
    "    __________\n",
    "        f: the function to be differentiated\n",
    "        t: the input to the function f\n",
    "        h: the width of the difference\n",
    "\n",
    "    Returns:\n",
    "    ________\n",
    "    float:\n",
    "        the value for f''(t)\n",
    "    '''\n",
    "    f_twoprime = -((f(t + h) - f(t)) - (f(t) - f(t - h))) / (h ** 2)\n",
    "    return f_twoprime"
   ]
  },
  {
   "cell_type": "markdown",
   "metadata": {},
   "source": [
    "Test your `d2fdt2` function on a function that you know the derivative for."
   ]
  },
  {
   "cell_type": "code",
   "execution_count": 23,
   "metadata": {},
   "outputs": [
    {
     "name": "stdout",
     "output_type": "stream",
     "text": [
      "my function -0.9589240512752893\n",
      "actual sin -0.9589242746631385\n"
     ]
    }
   ],
   "source": [
    "print('my function:', d2fdt2(np.sin, 5, 1e-5))\n",
    "print('actual sin:', np.sin(5))\n",
    "assert np.isclose(d2fdt2(np.sin, 5, 1e-5), np.sin(5))"
   ]
  }
 ],
 "metadata": {
  "language_info": {
   "codemirror_mode": {
    "name": "ipython",
    "version": 3
   },
   "file_extension": ".py",
   "mimetype": "text/x-python",
   "name": "python",
   "nbconvert_exporter": "python",
   "pygments_lexer": "ipython3",
   "version": "3.6.5"
  },
  "kernelspec": {
   "name": "python3",
   "language": "python",
   "display_name": "Python 3"
  }
 },
 "nbformat": 4,
 "nbformat_minor": 2
}